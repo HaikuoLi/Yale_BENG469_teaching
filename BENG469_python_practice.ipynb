{
 "cells": [
  {
   "cell_type": "markdown",
   "id": "f3d0265c-a487-44f8-83e3-6a977dd0182e",
   "metadata": {},
   "source": [
    "## 1. Iterate each line of the provided ATAC_meta.csv file (except the header line), write the first number of each line (i.e., the 2nd column/the “total” column) into a list."
   ]
  },
  {
   "cell_type": "code",
   "execution_count": 9,
   "id": "4cb86106-339d-4896-9ce5-d099d658ff2c",
   "metadata": {},
   "outputs": [
    {
     "data": {
      "text/plain": [
       "'barcode,total,duplicate,chimeric,unmapped,lowmapq,mitochondrial,nonprimary,passed_filters,is__cell_barcode,excluded_reason,TSS_fragments,DNase_sensitive_region_fragments,enhancer_region_fragments,promoter_region_fragments,on_target_fragments,blacklist_region_fragments,peak_region_fragments,peak_region_cutsites\\n'"
      ]
     },
     "execution_count": 9,
     "metadata": {},
     "output_type": "execute_result"
    }
   ],
   "source": [
    "input_file=open('ATAC_meta.csv', 'r')\n",
    "input_file.readline()"
   ]
  },
  {
   "cell_type": "code",
   "execution_count": 10,
   "id": "7f46cf6f-e7e7-4d5d-bc7a-3a17d5f7460d",
   "metadata": {},
   "outputs": [],
   "source": [
    "our_list=[]\n",
    "for line in input_file:\n",
    "    line=line.strip().split(',')\n",
    "    total=int(line[1])\n",
    "    our_list.append(total)"
   ]
  },
  {
   "cell_type": "code",
   "execution_count": 11,
   "id": "2ab98b83-7dec-473a-82cc-0fffdd205e2b",
   "metadata": {},
   "outputs": [
    {
     "data": {
      "text/plain": [
       "[485, 4476, 6445, 6341, 38717]"
      ]
     },
     "execution_count": 11,
     "metadata": {},
     "output_type": "execute_result"
    }
   ],
   "source": [
    "our_list[:5]\n",
    "\n",
    "#check the first 5 items"
   ]
  },
  {
   "cell_type": "markdown",
   "id": "e3c0831f-dfd8-4d92-81e2-cad4f14f4ffc",
   "metadata": {},
   "source": [
    "### another way using pandas"
   ]
  },
  {
   "cell_type": "code",
   "execution_count": 13,
   "id": "9c1602b8-0529-4c65-b3b3-703b4b0a74d2",
   "metadata": {},
   "outputs": [
    {
     "data": {
      "text/html": [
       "<div>\n",
       "<style scoped>\n",
       "    .dataframe tbody tr th:only-of-type {\n",
       "        vertical-align: middle;\n",
       "    }\n",
       "\n",
       "    .dataframe tbody tr th {\n",
       "        vertical-align: top;\n",
       "    }\n",
       "\n",
       "    .dataframe thead th {\n",
       "        text-align: right;\n",
       "    }\n",
       "</style>\n",
       "<table border=\"1\" class=\"dataframe\">\n",
       "  <thead>\n",
       "    <tr style=\"text-align: right;\">\n",
       "      <th></th>\n",
       "      <th>barcode</th>\n",
       "      <th>total</th>\n",
       "      <th>duplicate</th>\n",
       "      <th>chimeric</th>\n",
       "      <th>unmapped</th>\n",
       "      <th>lowmapq</th>\n",
       "      <th>mitochondrial</th>\n",
       "      <th>nonprimary</th>\n",
       "      <th>passed_filters</th>\n",
       "      <th>is__cell_barcode</th>\n",
       "      <th>excluded_reason</th>\n",
       "      <th>TSS_fragments</th>\n",
       "      <th>DNase_sensitive_region_fragments</th>\n",
       "      <th>enhancer_region_fragments</th>\n",
       "      <th>promoter_region_fragments</th>\n",
       "      <th>on_target_fragments</th>\n",
       "      <th>blacklist_region_fragments</th>\n",
       "      <th>peak_region_fragments</th>\n",
       "      <th>peak_region_cutsites</th>\n",
       "    </tr>\n",
       "  </thead>\n",
       "  <tbody>\n",
       "    <tr>\n",
       "      <th>0</th>\n",
       "      <td>AAACATCGAAACATCG-1</td>\n",
       "      <td>485</td>\n",
       "      <td>40</td>\n",
       "      <td>0</td>\n",
       "      <td>76</td>\n",
       "      <td>40</td>\n",
       "      <td>26</td>\n",
       "      <td>0</td>\n",
       "      <td>303</td>\n",
       "      <td>0</td>\n",
       "      <td>3</td>\n",
       "      <td>104</td>\n",
       "      <td>0</td>\n",
       "      <td>0</td>\n",
       "      <td>0</td>\n",
       "      <td>104</td>\n",
       "      <td>0</td>\n",
       "      <td>108</td>\n",
       "      <td>211</td>\n",
       "    </tr>\n",
       "    <tr>\n",
       "      <th>1</th>\n",
       "      <td>AAACATCGAACAACCA-1</td>\n",
       "      <td>4476</td>\n",
       "      <td>528</td>\n",
       "      <td>2</td>\n",
       "      <td>577</td>\n",
       "      <td>351</td>\n",
       "      <td>203</td>\n",
       "      <td>0</td>\n",
       "      <td>2815</td>\n",
       "      <td>0</td>\n",
       "      <td>3</td>\n",
       "      <td>886</td>\n",
       "      <td>0</td>\n",
       "      <td>0</td>\n",
       "      <td>0</td>\n",
       "      <td>886</td>\n",
       "      <td>0</td>\n",
       "      <td>921</td>\n",
       "      <td>1766</td>\n",
       "    </tr>\n",
       "    <tr>\n",
       "      <th>2</th>\n",
       "      <td>AAACATCGAACCGAGA-1</td>\n",
       "      <td>6445</td>\n",
       "      <td>849</td>\n",
       "      <td>0</td>\n",
       "      <td>803</td>\n",
       "      <td>482</td>\n",
       "      <td>177</td>\n",
       "      <td>1</td>\n",
       "      <td>4133</td>\n",
       "      <td>0</td>\n",
       "      <td>3</td>\n",
       "      <td>1145</td>\n",
       "      <td>0</td>\n",
       "      <td>0</td>\n",
       "      <td>0</td>\n",
       "      <td>1145</td>\n",
       "      <td>0</td>\n",
       "      <td>1156</td>\n",
       "      <td>2206</td>\n",
       "    </tr>\n",
       "    <tr>\n",
       "      <th>3</th>\n",
       "      <td>AAACATCGAACGCTTA-1</td>\n",
       "      <td>6341</td>\n",
       "      <td>730</td>\n",
       "      <td>1</td>\n",
       "      <td>879</td>\n",
       "      <td>536</td>\n",
       "      <td>130</td>\n",
       "      <td>0</td>\n",
       "      <td>4065</td>\n",
       "      <td>0</td>\n",
       "      <td>3</td>\n",
       "      <td>1053</td>\n",
       "      <td>0</td>\n",
       "      <td>0</td>\n",
       "      <td>0</td>\n",
       "      <td>1053</td>\n",
       "      <td>0</td>\n",
       "      <td>1045</td>\n",
       "      <td>1991</td>\n",
       "    </tr>\n",
       "    <tr>\n",
       "      <th>4</th>\n",
       "      <td>AAACATCGAACGTGAT-1</td>\n",
       "      <td>38717</td>\n",
       "      <td>5060</td>\n",
       "      <td>2</td>\n",
       "      <td>4359</td>\n",
       "      <td>2750</td>\n",
       "      <td>524</td>\n",
       "      <td>3</td>\n",
       "      <td>26019</td>\n",
       "      <td>1</td>\n",
       "      <td>0</td>\n",
       "      <td>7595</td>\n",
       "      <td>0</td>\n",
       "      <td>0</td>\n",
       "      <td>0</td>\n",
       "      <td>7595</td>\n",
       "      <td>0</td>\n",
       "      <td>7847</td>\n",
       "      <td>15000</td>\n",
       "    </tr>\n",
       "    <tr>\n",
       "      <th>...</th>\n",
       "      <td>...</td>\n",
       "      <td>...</td>\n",
       "      <td>...</td>\n",
       "      <td>...</td>\n",
       "      <td>...</td>\n",
       "      <td>...</td>\n",
       "      <td>...</td>\n",
       "      <td>...</td>\n",
       "      <td>...</td>\n",
       "      <td>...</td>\n",
       "      <td>...</td>\n",
       "      <td>...</td>\n",
       "      <td>...</td>\n",
       "      <td>...</td>\n",
       "      <td>...</td>\n",
       "      <td>...</td>\n",
       "      <td>...</td>\n",
       "      <td>...</td>\n",
       "      <td>...</td>\n",
       "    </tr>\n",
       "    <tr>\n",
       "      <th>2495</th>\n",
       "      <td>GCCACATAGAATCTGA-1</td>\n",
       "      <td>11735</td>\n",
       "      <td>1299</td>\n",
       "      <td>1</td>\n",
       "      <td>2132</td>\n",
       "      <td>919</td>\n",
       "      <td>379</td>\n",
       "      <td>0</td>\n",
       "      <td>7005</td>\n",
       "      <td>0</td>\n",
       "      <td>3</td>\n",
       "      <td>1858</td>\n",
       "      <td>0</td>\n",
       "      <td>0</td>\n",
       "      <td>0</td>\n",
       "      <td>1858</td>\n",
       "      <td>0</td>\n",
       "      <td>1979</td>\n",
       "      <td>3786</td>\n",
       "    </tr>\n",
       "    <tr>\n",
       "      <th>2496</th>\n",
       "      <td>GCCACATAGACTAGTA-1</td>\n",
       "      <td>17777</td>\n",
       "      <td>2247</td>\n",
       "      <td>2</td>\n",
       "      <td>2408</td>\n",
       "      <td>1395</td>\n",
       "      <td>477</td>\n",
       "      <td>2</td>\n",
       "      <td>11246</td>\n",
       "      <td>0</td>\n",
       "      <td>0</td>\n",
       "      <td>2874</td>\n",
       "      <td>0</td>\n",
       "      <td>0</td>\n",
       "      <td>0</td>\n",
       "      <td>2874</td>\n",
       "      <td>0</td>\n",
       "      <td>2822</td>\n",
       "      <td>5362</td>\n",
       "    </tr>\n",
       "    <tr>\n",
       "      <th>2497</th>\n",
       "      <td>GCCACATAGAGCTGAA-1</td>\n",
       "      <td>12042</td>\n",
       "      <td>1164</td>\n",
       "      <td>1</td>\n",
       "      <td>2475</td>\n",
       "      <td>921</td>\n",
       "      <td>480</td>\n",
       "      <td>0</td>\n",
       "      <td>7001</td>\n",
       "      <td>0</td>\n",
       "      <td>3</td>\n",
       "      <td>1803</td>\n",
       "      <td>0</td>\n",
       "      <td>0</td>\n",
       "      <td>0</td>\n",
       "      <td>1803</td>\n",
       "      <td>0</td>\n",
       "      <td>1868</td>\n",
       "      <td>3573</td>\n",
       "    </tr>\n",
       "    <tr>\n",
       "      <th>2498</th>\n",
       "      <td>GCCACATAGATAGACA-1</td>\n",
       "      <td>6408</td>\n",
       "      <td>708</td>\n",
       "      <td>0</td>\n",
       "      <td>1077</td>\n",
       "      <td>545</td>\n",
       "      <td>226</td>\n",
       "      <td>1</td>\n",
       "      <td>3851</td>\n",
       "      <td>0</td>\n",
       "      <td>3</td>\n",
       "      <td>929</td>\n",
       "      <td>0</td>\n",
       "      <td>0</td>\n",
       "      <td>0</td>\n",
       "      <td>929</td>\n",
       "      <td>0</td>\n",
       "      <td>880</td>\n",
       "      <td>1660</td>\n",
       "    </tr>\n",
       "    <tr>\n",
       "      <th>2499</th>\n",
       "      <td>GCCACATAGCCACATA-1</td>\n",
       "      <td>24720</td>\n",
       "      <td>2448</td>\n",
       "      <td>0</td>\n",
       "      <td>3928</td>\n",
       "      <td>2044</td>\n",
       "      <td>724</td>\n",
       "      <td>4</td>\n",
       "      <td>15572</td>\n",
       "      <td>1</td>\n",
       "      <td>0</td>\n",
       "      <td>4248</td>\n",
       "      <td>0</td>\n",
       "      <td>0</td>\n",
       "      <td>0</td>\n",
       "      <td>4248</td>\n",
       "      <td>0</td>\n",
       "      <td>4275</td>\n",
       "      <td>8144</td>\n",
       "    </tr>\n",
       "  </tbody>\n",
       "</table>\n",
       "<p>2500 rows × 19 columns</p>\n",
       "</div>"
      ],
      "text/plain": [
       "                 barcode  total  duplicate  chimeric  unmapped  lowmapq  \\\n",
       "0     AAACATCGAAACATCG-1    485         40         0        76       40   \n",
       "1     AAACATCGAACAACCA-1   4476        528         2       577      351   \n",
       "2     AAACATCGAACCGAGA-1   6445        849         0       803      482   \n",
       "3     AAACATCGAACGCTTA-1   6341        730         1       879      536   \n",
       "4     AAACATCGAACGTGAT-1  38717       5060         2      4359     2750   \n",
       "...                  ...    ...        ...       ...       ...      ...   \n",
       "2495  GCCACATAGAATCTGA-1  11735       1299         1      2132      919   \n",
       "2496  GCCACATAGACTAGTA-1  17777       2247         2      2408     1395   \n",
       "2497  GCCACATAGAGCTGAA-1  12042       1164         1      2475      921   \n",
       "2498  GCCACATAGATAGACA-1   6408        708         0      1077      545   \n",
       "2499  GCCACATAGCCACATA-1  24720       2448         0      3928     2044   \n",
       "\n",
       "      mitochondrial  nonprimary  passed_filters  is__cell_barcode  \\\n",
       "0                26           0             303                 0   \n",
       "1               203           0            2815                 0   \n",
       "2               177           1            4133                 0   \n",
       "3               130           0            4065                 0   \n",
       "4               524           3           26019                 1   \n",
       "...             ...         ...             ...               ...   \n",
       "2495            379           0            7005                 0   \n",
       "2496            477           2           11246                 0   \n",
       "2497            480           0            7001                 0   \n",
       "2498            226           1            3851                 0   \n",
       "2499            724           4           15572                 1   \n",
       "\n",
       "      excluded_reason  TSS_fragments  DNase_sensitive_region_fragments  \\\n",
       "0                   3            104                                 0   \n",
       "1                   3            886                                 0   \n",
       "2                   3           1145                                 0   \n",
       "3                   3           1053                                 0   \n",
       "4                   0           7595                                 0   \n",
       "...               ...            ...                               ...   \n",
       "2495                3           1858                                 0   \n",
       "2496                0           2874                                 0   \n",
       "2497                3           1803                                 0   \n",
       "2498                3            929                                 0   \n",
       "2499                0           4248                                 0   \n",
       "\n",
       "      enhancer_region_fragments  promoter_region_fragments  \\\n",
       "0                             0                          0   \n",
       "1                             0                          0   \n",
       "2                             0                          0   \n",
       "3                             0                          0   \n",
       "4                             0                          0   \n",
       "...                         ...                        ...   \n",
       "2495                          0                          0   \n",
       "2496                          0                          0   \n",
       "2497                          0                          0   \n",
       "2498                          0                          0   \n",
       "2499                          0                          0   \n",
       "\n",
       "      on_target_fragments  blacklist_region_fragments  peak_region_fragments  \\\n",
       "0                     104                           0                    108   \n",
       "1                     886                           0                    921   \n",
       "2                    1145                           0                   1156   \n",
       "3                    1053                           0                   1045   \n",
       "4                    7595                           0                   7847   \n",
       "...                   ...                         ...                    ...   \n",
       "2495                 1858                           0                   1979   \n",
       "2496                 2874                           0                   2822   \n",
       "2497                 1803                           0                   1868   \n",
       "2498                  929                           0                    880   \n",
       "2499                 4248                           0                   4275   \n",
       "\n",
       "      peak_region_cutsites  \n",
       "0                      211  \n",
       "1                     1766  \n",
       "2                     2206  \n",
       "3                     1991  \n",
       "4                    15000  \n",
       "...                    ...  \n",
       "2495                  3786  \n",
       "2496                  5362  \n",
       "2497                  3573  \n",
       "2498                  1660  \n",
       "2499                  8144  \n",
       "\n",
       "[2500 rows x 19 columns]"
      ]
     },
     "execution_count": 13,
     "metadata": {},
     "output_type": "execute_result"
    }
   ],
   "source": [
    "import pandas as pd\n",
    "input_mtx=pd.read_csv('ATAC_meta.csv')\n",
    "input_mtx"
   ]
  },
  {
   "cell_type": "code",
   "execution_count": 14,
   "id": "7246c61c-b659-4c6b-82b2-c64b2a39fa55",
   "metadata": {},
   "outputs": [],
   "source": [
    "our_list_pandas=list(input_mtx['total'])"
   ]
  },
  {
   "cell_type": "markdown",
   "id": "b48d9df1-0bd7-4875-ac48-996c13e35129",
   "metadata": {},
   "source": [
    "## 2. Count how many lines there are in this .csv file and calculate the average of the list you obtained."
   ]
  },
  {
   "cell_type": "code",
   "execution_count": 15,
   "id": "907c2989-22e2-4fd7-9468-b183db9a6028",
   "metadata": {},
   "outputs": [
    {
     "name": "stdout",
     "output_type": "stream",
     "text": [
      "2500\n"
     ]
    }
   ],
   "source": [
    "input_file=open('ATAC_meta.csv', 'r')\n",
    "input_file.readline()\n",
    "print(len(input_file.readlines()))"
   ]
  },
  {
   "cell_type": "code",
   "execution_count": 16,
   "id": "d29c9075-7d28-48c0-8dc0-74da5086957d",
   "metadata": {},
   "outputs": [
    {
     "name": "stdout",
     "output_type": "stream",
     "text": [
      "2500\n",
      "2500\n"
     ]
    }
   ],
   "source": [
    "print(len(our_list))\n",
    "print(len(our_list_pandas))"
   ]
  },
  {
   "cell_type": "code",
   "execution_count": 17,
   "id": "f2d1d969-bc60-45ff-b08d-e38c07e7fc88",
   "metadata": {},
   "outputs": [
    {
     "name": "stdout",
     "output_type": "stream",
     "text": [
      "7273.056\n",
      "7273.056\n"
     ]
    }
   ],
   "source": [
    "import numpy as np\n",
    "print(np.mean(our_list))\n",
    "print(np.mean(our_list_pandas))"
   ]
  },
  {
   "cell_type": "markdown",
   "id": "1ac44cee-b31e-4ebf-bd32-83e15be92837",
   "metadata": {},
   "source": [
    "## 3. write a Python script that can generate a reverse complement sequence for any sequences containing A/C/T/G"
   ]
  },
  {
   "cell_type": "code",
   "execution_count": 18,
   "id": "39aa0f9d-f751-469c-8dff-59ef6edbd0e0",
   "metadata": {},
   "outputs": [
    {
     "data": {
      "text/plain": [
       "'GGCCTTAA'"
      ]
     },
     "execution_count": 18,
     "metadata": {},
     "output_type": "execute_result"
    }
   ],
   "source": [
    "\"AATTCCGG\"[::-1]\n",
    "\n",
    "## this is the reverse sequence (not reverse complement)"
   ]
  },
  {
   "cell_type": "code",
   "execution_count": 19,
   "id": "1691126e-f71e-4ce3-9c3d-396617509d0a",
   "metadata": {},
   "outputs": [],
   "source": [
    "def reverse_complement(seq):\n",
    "    \"\"\"\n",
    "    This function takes a DNA sequence as input and returns its reverse complement.\n",
    "    \"\"\"\n",
    "    complement = {'A': 'T', 'T': 'A', 'C': 'G', 'G': 'C'}\n",
    "    new_seq = []\n",
    "    for base in seq[::-1]:\n",
    "        new_seq.append(complement[base])\n",
    "    return ''.join(new_seq)"
   ]
  },
  {
   "cell_type": "code",
   "execution_count": 20,
   "id": "e8463da2-52d6-4316-9271-73629b13b83d",
   "metadata": {},
   "outputs": [],
   "source": [
    "old_seq=[\n",
    "    \"AATTCCGG\",\n",
    "    \"GGTTCCAA\"\n",
    "]"
   ]
  },
  {
   "cell_type": "code",
   "execution_count": 21,
   "id": "9aa31037-a1b9-43bc-99c3-7f41f489b875",
   "metadata": {},
   "outputs": [],
   "source": [
    "new_seq=[]\n",
    "\n",
    "for i in old_seq:\n",
    "    rc_seq = reverse_complement(i)\n",
    "    new_seq.append(rc_seq)\n"
   ]
  },
  {
   "cell_type": "code",
   "execution_count": 22,
   "id": "06f2b5d1-2283-436e-b694-0151be0bb975",
   "metadata": {},
   "outputs": [
    {
     "name": "stdout",
     "output_type": "stream",
     "text": [
      "['CCGGAATT', 'TTGGAACC']\n"
     ]
    }
   ],
   "source": [
    "print(new_seq)"
   ]
  },
  {
   "cell_type": "markdown",
   "id": "c0125a0f-e0a4-4b94-a3a5-2a2c98d8343d",
   "metadata": {},
   "source": [
    "### Just briefly show you how you can save new_seq into a file"
   ]
  },
  {
   "cell_type": "code",
   "execution_count": 23,
   "id": "f7a4030e-40fc-4a41-9234-4126b9047b2d",
   "metadata": {},
   "outputs": [],
   "source": [
    "output = open('output_file.txt','w')\n",
    "for i in new_seq:\n",
    "    output.write(str(i)+'\\n')\n",
    "output.close()"
   ]
  },
  {
   "cell_type": "markdown",
   "id": "0f7354bf-0e24-4f6b-a238-d8e8a0f57946",
   "metadata": {},
   "source": [
    "### You can find output_file.txt in the current directory"
   ]
  }
 ],
 "metadata": {
  "kernelspec": {
   "display_name": "Python 3 (ipykernel)",
   "language": "python",
   "name": "python3"
  },
  "language_info": {
   "codemirror_mode": {
    "name": "ipython",
    "version": 3
   },
   "file_extension": ".py",
   "mimetype": "text/x-python",
   "name": "python",
   "nbconvert_exporter": "python",
   "pygments_lexer": "ipython3",
   "version": "3.12.8"
  }
 },
 "nbformat": 4,
 "nbformat_minor": 5
}
